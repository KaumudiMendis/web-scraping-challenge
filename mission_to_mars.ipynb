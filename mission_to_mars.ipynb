{
 "cells": [
  {
   "cell_type": "markdown",
   "id": "8b3c0566",
   "metadata": {},
   "source": [
    "## Web Scraping Homework - Mission Mars"
   ]
  },
  {
   "cell_type": "markdown",
   "id": "92bc5a70",
   "metadata": {},
   "source": [
    "### Step 1- Scraping"
   ]
  },
  {
   "cell_type": "code",
   "execution_count": 1,
   "id": "53c96b8f",
   "metadata": {},
   "outputs": [],
   "source": [
    "#import dependancies\n",
    "import pandas\n",
    "from splinter import Browser\n",
    "from bs4 import BeautifulSoup\n",
    "from webdriver_manager.chrome import ChromeDriverManager"
   ]
  },
  {
   "cell_type": "code",
   "execution_count": 2,
   "id": "753d9ac8",
   "metadata": {},
   "outputs": [
    {
     "name": "stderr",
     "output_type": "stream",
     "text": [
      "\n",
      "\n",
      "INFO:WDM:\n",
      "\n",
      "====== WebDriver manager ======\n",
      "INFO:WDM:====== WebDriver manager ======\n",
      "Current google-chrome version is 105.0.5195\n",
      "INFO:WDM:Current google-chrome version is 105.0.5195\n",
      "Get LATEST chromedriver version for 105.0.5195 google-chrome\n",
      "INFO:WDM:Get LATEST chromedriver version for 105.0.5195 google-chrome\n",
      "Driver [/Users/KM/.wdm/drivers/chromedriver/mac64/105.0.5195.52/chromedriver] found in cache\n",
      "INFO:WDM:Driver [/Users/KM/.wdm/drivers/chromedriver/mac64/105.0.5195.52/chromedriver] found in cache\n"
     ]
    }
   ],
   "source": [
    "# Set up Splinter\n",
    "executable_path = {'executable_path': ChromeDriverManager().install()}\n",
    "browser = Browser('chrome', **executable_path, headless=False)"
   ]
  },
  {
   "cell_type": "markdown",
   "id": "10ffa304",
   "metadata": {},
   "source": [
    "# NASA Mars News"
   ]
  },
  {
   "cell_type": "code",
   "execution_count": 3,
   "id": "8be7530f",
   "metadata": {},
   "outputs": [
    {
     "name": "stdout",
     "output_type": "stream",
     "text": [
      "Title: Deadline Closing for Names to Fly on NASA's Next Mars Rover\n",
      "\n",
      "Paragraph: You have until Sept. 30 to send your names to Mars aboard the Mars 2020 rover. \n"
     ]
    }
   ],
   "source": [
    "#Visit Mars news site\n",
    "news_url = \"https://redplanetscience.com/\"\n",
    "browser.visit(news_url)\n",
    "\n",
    "# Convert the browser html to a soup object\n",
    "\n",
    "news_html = browser.html\n",
    "news_soup = BeautifulSoup(news_html, \"html.parser\")\n",
    "\n",
    "#Create variables to hold the title and paragraph\n",
    "#Use .get_text() to bring the text into the variable\n",
    "\n",
    "news_title = news_soup.find('div',class_=\"content_title\").get_text()\n",
    "news_p = news_soup.find('div',class_=\"article_teaser_body\").get_text()\n",
    "\n",
    "#Print out Title and Paragrah in output\n",
    "print(f\"Title: {news_title}\\n\\nParagraph: {news_p}\")\n",
    "\n"
   ]
  },
  {
   "cell_type": "markdown",
   "id": "c8847299",
   "metadata": {},
   "source": [
    "### JPL Space Images - Featured Image"
   ]
  },
  {
   "cell_type": "code",
   "execution_count": 4,
   "id": "d23bd24b",
   "metadata": {},
   "outputs": [],
   "source": [
    "#Visit URL\n",
    "feat_img_base = \"https://spaceimages-mars.com/\"\n",
    "browser.visit(feat_img_base)"
   ]
  },
  {
   "cell_type": "code",
   "execution_count": 5,
   "id": "e30cccd2",
   "metadata": {},
   "outputs": [],
   "source": [
    "#Find and click the \"Full Image\" button on the site\n",
    "browser.links.find_by_partial_text('FULL').click()"
   ]
  },
  {
   "cell_type": "code",
   "execution_count": 6,
   "id": "33399b3c",
   "metadata": {},
   "outputs": [],
   "source": [
    "# Scrape page into Soup\n",
    "feat_img_html = browser.html\n",
    "feat_img_soup = BeautifulSoup(feat_img_html, \"html.parser\")\n"
   ]
  },
  {
   "cell_type": "code",
   "execution_count": 7,
   "id": "0ef8cc76",
   "metadata": {},
   "outputs": [
    {
     "data": {
      "text/plain": [
       "'image/featured/mars2.jpg'"
      ]
     },
     "execution_count": 7,
     "metadata": {},
     "output_type": "execute_result"
    }
   ],
   "source": [
    "#Find the image location using soup\n",
    "feat_img_loc= feat_img_soup.find(\"img\", class_=\"fancybox-image\")[\"src\"]\n",
    "feat_img_loc"
   ]
  },
  {
   "cell_type": "code",
   "execution_count": 8,
   "id": "dbf07efd",
   "metadata": {},
   "outputs": [
    {
     "name": "stdout",
     "output_type": "stream",
     "text": [
      "https://spaceimages-mars.com/image/featured/mars2.jpg\n"
     ]
    }
   ],
   "source": [
    "#Combine the original base url and the location of the image url to create the absolute URL\n",
    "feat_img_url= feat_img_base+feat_img_loc\n",
    "\n",
    "#Print image link\n",
    "print(feat_img_url)"
   ]
  },
  {
   "cell_type": "markdown",
   "id": "89d9d946",
   "metadata": {},
   "source": [
    "### Mars Facts"
   ]
  },
  {
   "cell_type": "code",
   "execution_count": 9,
   "id": "ca269651",
   "metadata": {},
   "outputs": [
    {
     "name": "stdout",
     "output_type": "stream",
     "text": [
      "                         0                1                2\n",
      "0  Mars - Earth Comparison             Mars            Earth\n",
      "1                Diameter:         6,779 km        12,742 km\n",
      "2                    Mass:  6.39 × 10^23 kg  5.97 × 10^24 kg\n",
      "3                   Moons:                2                1\n",
      "4       Distance from Sun:   227,943,824 km   149,598,262 km\n",
      "5          Length of Year:   687 Earth days      365.24 days\n",
      "6             Temperature:     -87 to -5 °C      -88 to 58°C\n"
     ]
    }
   ],
   "source": [
    "#Use  pandas to convert the data to html String visiting the Mars fats webpage \"https://galaxyfacts-mars.com/\"\n",
    "table_url= \"https://galaxyfacts-mars.com/\"\n",
    "data_table= pandas.read_html(table_url)[0]\n",
    "print(data_table)\n"
   ]
  },
  {
   "cell_type": "code",
   "execution_count": 10,
   "id": "fded9811",
   "metadata": {},
   "outputs": [
    {
     "name": "stdout",
     "output_type": "stream",
     "text": [
      " \n",
      " \n",
      "               Description             Mars            Earth\n",
      "0  Mars - Earth Comparison             Mars            Earth\n",
      "1                Diameter:         6,779 km        12,742 km\n",
      "2                    Mass:  6.39 × 10^23 kg  5.97 × 10^24 kg\n",
      "3                   Moons:                2                1\n",
      "4       Distance from Sun:   227,943,824 km   149,598,262 km\n",
      "5          Length of Year:   687 Earth days      365.24 days\n",
      "6             Temperature:     -87 to -5 °C      -88 to 58°C\n",
      " \n",
      " \n",
      "                                    Mars            Earth\n",
      "Description                                              \n",
      "Mars - Earth Comparison             Mars            Earth\n",
      "Diameter:                       6,779 km        12,742 km\n",
      "Mass:                    6.39 × 10^23 kg  5.97 × 10^24 kg\n",
      "Moons:                                 2                1\n",
      "Distance from Sun:        227,943,824 km   149,598,262 km\n",
      "Length of Year:           687 Earth days      365.24 days\n",
      "Temperature:                -87 to -5 °C      -88 to 58°C\n",
      " \n",
      " \n"
     ]
    }
   ],
   "source": [
    "#Output\n",
    "print(\" \")\n",
    "print(\" \")\n",
    "\n",
    "# Headers\n",
    "data_table=data_table.rename(columns={\n",
    "    0:\"Description\",\n",
    "    1:\"Mars\",\n",
    "    2:\"Earth\"\n",
    "})\n",
    "\n",
    "#table to view\n",
    "\n",
    "print(data_table)\n",
    "print(\" \")\n",
    "print(\" \")\n",
    "\n",
    "#Set \"Description\" as index to further match expected output\n",
    "data_table=data_table.set_index(\"Description\")\n",
    "\n",
    "#table to view\n",
    "print(data_table)\n",
    "print(\" \")\n",
    "print(\" \")\n"
   ]
  },
  {
   "cell_type": "code",
   "execution_count": 11,
   "id": "406df2fe",
   "metadata": {},
   "outputs": [
    {
     "name": "stdout",
     "output_type": "stream",
     "text": [
      "<table border=\"1\" class=\"dataframe\">\n",
      "  <thead>\n",
      "    <tr style=\"text-align: right;\">\n",
      "      <th></th>\n",
      "      <th>Mars</th>\n",
      "      <th>Earth</th>\n",
      "    </tr>\n",
      "    <tr>\n",
      "      <th>Description</th>\n",
      "      <th></th>\n",
      "      <th></th>\n",
      "    </tr>\n",
      "  </thead>\n",
      "  <tbody>\n",
      "    <tr>\n",
      "      <th>Mars - Earth Comparison</th>\n",
      "      <td>Mars</td>\n",
      "      <td>Earth</td>\n",
      "    </tr>\n",
      "    <tr>\n",
      "      <th>Diameter:</th>\n",
      "      <td>6,779 km</td>\n",
      "      <td>12,742 km</td>\n",
      "    </tr>\n",
      "    <tr>\n",
      "      <th>Mass:</th>\n",
      "      <td>6.39 × 10^23 kg</td>\n",
      "      <td>5.97 × 10^24 kg</td>\n",
      "    </tr>\n",
      "    <tr>\n",
      "      <th>Moons:</th>\n",
      "      <td>2</td>\n",
      "      <td>1</td>\n",
      "    </tr>\n",
      "    <tr>\n",
      "      <th>Distance from Sun:</th>\n",
      "      <td>227,943,824 km</td>\n",
      "      <td>149,598,262 km</td>\n",
      "    </tr>\n",
      "    <tr>\n",
      "      <th>Length of Year:</th>\n",
      "      <td>687 Earth days</td>\n",
      "      <td>365.24 days</td>\n",
      "    </tr>\n",
      "    <tr>\n",
      "      <th>Temperature:</th>\n",
      "      <td>-87 to -5 °C</td>\n",
      "      <td>-88 to 58°C</td>\n",
      "    </tr>\n",
      "  </tbody>\n",
      "</table>\n"
     ]
    }
   ],
   "source": [
    "#Table to html\n",
    "\n",
    "table_html = data_table.to_html()\n",
    "print(table_html)\n",
    "\n"
   ]
  },
  {
   "cell_type": "markdown",
   "id": "97930a9e",
   "metadata": {},
   "source": [
    "### Mars Hemisphers"
   ]
  },
  {
   "cell_type": "code",
   "execution_count": 12,
   "id": "a84fc102",
   "metadata": {},
   "outputs": [],
   "source": [
    "#Visit browser\n",
    "hemi_url = \"https://marshemispheres.com/\"\n",
    "browser.visit(hemi_url)"
   ]
  },
  {
   "cell_type": "code",
   "execution_count": 13,
   "id": "63bfd4d5",
   "metadata": {},
   "outputs": [],
   "source": [
    "#Create list to hold the title and image urls\n",
    "hemi_img_urls=[]"
   ]
  },
  {
   "cell_type": "code",
   "execution_count": 14,
   "id": "de569c1f",
   "metadata": {},
   "outputs": [],
   "source": [
    "# Get a list of all of the hemispheres\n",
    "links = browser.find_by_css('a.product-item img')"
   ]
  },
  {
   "cell_type": "code",
   "execution_count": 15,
   "id": "dc729173",
   "metadata": {},
   "outputs": [
    {
     "name": "stdout",
     "output_type": "stream",
     "text": [
      "[{'title': 'Cerberus Hemisphere Enhanced', 'img_url': 'https://marshemispheres.com/images/f5e372a36edfa389625da6d0cc25d905_cerberus_enhanced.tif_full.jpg'}, {'title': 'Schiaparelli Hemisphere Enhanced', 'img_url': 'https://marshemispheres.com/images/3778f7b43bbbc89d6e3cfabb3613ba93_schiaparelli_enhanced.tif_full.jpg'}, {'title': 'Syrtis Major Hemisphere Enhanced', 'img_url': 'https://marshemispheres.com/images/555e6403a6ddd7ba16ddb0e471cadcf7_syrtis_major_enhanced.tif_full.jpg'}, {'title': 'Valles Marineris Hemisphere Enhanced', 'img_url': 'https://marshemispheres.com/images/b3c7c6c9138f57b4756be9b9c43e3a48_valles_marineris_enhanced.tif_full.jpg'}]\n"
     ]
    }
   ],
   "source": [
    "\n",
    "#For loop errors out after 4, so run that many times\n",
    "for i in range(0,4):\n",
    "    #Create a dictionary each loop to append to the list\n",
    "    hemi_dict={}\n",
    "    \n",
    "    #Find the i-th image link for the hemisphere and click\n",
    "    browser.find_by_css('a.product-item img')[i].click()\n",
    "    \n",
    "    \n",
    "    #Scrape in the title from it's h2 element into dictionary\n",
    "    hemi_dict['title']=browser.find_by_css('h2.title').text\n",
    "    \n",
    "    #Scrape image url in by it's element img into dictionary\n",
    "    hemi_dict['img_url']=browser.find_by_css('img.wide-image')['src']\n",
    "    \n",
    "    #Append dictionary into the list\n",
    "    hemi_img_urls.append(hemi_dict)\n",
    "    \n",
    "    #Have splinter move back to home page\n",
    "    browser.back()\n",
    "\n",
    "#Print out the list\n",
    "print(hemi_img_urls)\n"
   ]
  },
  {
   "cell_type": "code",
   "execution_count": 16,
   "id": "d2816de7",
   "metadata": {},
   "outputs": [],
   "source": [
    "#close the browser\n",
    "browser.quit()"
   ]
  },
  {
   "cell_type": "code",
   "execution_count": null,
   "id": "082ea81c",
   "metadata": {},
   "outputs": [],
   "source": []
  }
 ],
 "metadata": {
  "kernelspec": {
   "display_name": "Python 3 (ipykernel)",
   "language": "python",
   "name": "python3"
  },
  "language_info": {
   "codemirror_mode": {
    "name": "ipython",
    "version": 3
   },
   "file_extension": ".py",
   "mimetype": "text/x-python",
   "name": "python",
   "nbconvert_exporter": "python",
   "pygments_lexer": "ipython3",
   "version": "3.9.12"
  }
 },
 "nbformat": 4,
 "nbformat_minor": 5
}
