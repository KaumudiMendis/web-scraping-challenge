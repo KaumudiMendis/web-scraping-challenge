{
 "cells": [
  {
   "cell_type": "markdown",
   "id": "8b3c0566",
   "metadata": {},
   "source": [
    "## Web Scraping Homework - Mission Mars"
   ]
  },
  {
   "cell_type": "markdown",
   "id": "92bc5a70",
   "metadata": {},
   "source": [
    "### Step 1- Scraping"
   ]
  },
  {
   "cell_type": "code",
   "execution_count": 1,
   "id": "53c96b8f",
   "metadata": {},
   "outputs": [],
   "source": [
    "#import dependancies\n",
    "import pandas\n",
    "from splinter import Browser\n",
    "from bs4 import BeautifulSoup\n",
    "from webdriver_manager.chrome import ChromeDriverManager"
   ]
  },
  {
   "cell_type": "code",
   "execution_count": 2,
   "id": "753d9ac8",
   "metadata": {},
   "outputs": [
    {
     "name": "stderr",
     "output_type": "stream",
     "text": [
      "\n",
      "\n",
      "INFO:WDM:\n",
      "\n",
      "====== WebDriver manager ======\n",
      "INFO:WDM:====== WebDriver manager ======\n",
      "Current google-chrome version is 105.0.5195\n",
      "INFO:WDM:Current google-chrome version is 105.0.5195\n",
      "Get LATEST chromedriver version for 105.0.5195 google-chrome\n",
      "INFO:WDM:Get LATEST chromedriver version for 105.0.5195 google-chrome\n",
      "Trying to download new driver from https://chromedriver.storage.googleapis.com/105.0.5195.52/chromedriver_mac64.zip\n",
      "INFO:WDM:Trying to download new driver from https://chromedriver.storage.googleapis.com/105.0.5195.52/chromedriver_mac64.zip\n",
      "Driver has been saved in cache [/Users/KM/.wdm/drivers/chromedriver/mac64/105.0.5195.52]\n",
      "INFO:WDM:Driver has been saved in cache [/Users/KM/.wdm/drivers/chromedriver/mac64/105.0.5195.52]\n"
     ]
    }
   ],
   "source": [
    "# Set up Splinter\n",
    "executable_path = {'executable_path': ChromeDriverManager().install()}\n",
    "browser = Browser('chrome', **executable_path, headless=False)"
   ]
  },
  {
   "cell_type": "markdown",
   "id": "10ffa304",
   "metadata": {},
   "source": [
    "# NASA Mars News"
   ]
  },
  {
   "cell_type": "code",
   "execution_count": 3,
   "id": "8be7530f",
   "metadata": {},
   "outputs": [
    {
     "ename": "AttributeError",
     "evalue": "'NoneType' object has no attribute 'get_text'",
     "output_type": "error",
     "traceback": [
      "\u001b[0;31m---------------------------------------------------------------------------\u001b[0m",
      "\u001b[0;31mAttributeError\u001b[0m                            Traceback (most recent call last)",
      "Input \u001b[0;32mIn [3]\u001b[0m, in \u001b[0;36m<cell line: 13>\u001b[0;34m()\u001b[0m\n\u001b[1;32m      8\u001b[0m news_soup \u001b[38;5;241m=\u001b[39m BeautifulSoup(news_html, \u001b[38;5;124m\"\u001b[39m\u001b[38;5;124mhtml.parser\u001b[39m\u001b[38;5;124m\"\u001b[39m)\n\u001b[1;32m     10\u001b[0m \u001b[38;5;66;03m#Create variables to hold the title and paragraph\u001b[39;00m\n\u001b[1;32m     11\u001b[0m \u001b[38;5;66;03m#Use .get_text() to bring the text into the variable\u001b[39;00m\n\u001b[0;32m---> 13\u001b[0m news_title \u001b[38;5;241m=\u001b[39m \u001b[43mnews_soup\u001b[49m\u001b[38;5;241;43m.\u001b[39;49m\u001b[43mfind\u001b[49m\u001b[43m(\u001b[49m\u001b[38;5;124;43m'\u001b[39;49m\u001b[38;5;124;43mdiv\u001b[39;49m\u001b[38;5;124;43m'\u001b[39;49m\u001b[43m,\u001b[49m\u001b[43mclass_\u001b[49m\u001b[38;5;241;43m=\u001b[39;49m\u001b[38;5;124;43m\"\u001b[39;49m\u001b[38;5;124;43mcontent_title\u001b[39;49m\u001b[38;5;124;43m\"\u001b[39;49m\u001b[43m)\u001b[49m\u001b[38;5;241;43m.\u001b[39;49m\u001b[43mget_text\u001b[49m()\n\u001b[1;32m     14\u001b[0m news_p \u001b[38;5;241m=\u001b[39m news_soup\u001b[38;5;241m.\u001b[39mfind(\u001b[38;5;124m'\u001b[39m\u001b[38;5;124mdiv\u001b[39m\u001b[38;5;124m'\u001b[39m,class_\u001b[38;5;241m=\u001b[39m\u001b[38;5;124m\"\u001b[39m\u001b[38;5;124marticle_teaser_body\u001b[39m\u001b[38;5;124m\"\u001b[39m)\u001b[38;5;241m.\u001b[39mget_text()\n\u001b[1;32m     16\u001b[0m \u001b[38;5;66;03m#Print out Title and Paragrah in output\u001b[39;00m\n",
      "\u001b[0;31mAttributeError\u001b[0m: 'NoneType' object has no attribute 'get_text'"
     ]
    }
   ],
   "source": [
    "#Visit Mars news site\n",
    "news_url = \"https://redplanetscience.com/\"\n",
    "browser.visit(news_url)\n",
    "\n",
    "# Convert the browser html to a soup object\n",
    "\n",
    "news_html = browser.html\n",
    "news_soup = BeautifulSoup(news_html, \"html.parser\")\n",
    "\n",
    "#Create variables to hold the title and paragraph\n",
    "#Use .get_text() to bring the text into the variable\n",
    "\n",
    "news_title = news_soup.find('div',class_=\"content_title\").get_text()\n",
    "news_p = news_soup.find('div',class_=\"article_teaser_body\").get_text()\n",
    "\n",
    "#Print out Title and Paragrah in output\n",
    "print(f\"Title: {news_title}\\n\\nParagraph: {news_p}\")\n",
    "\n"
   ]
  },
  {
   "cell_type": "markdown",
   "id": "c8847299",
   "metadata": {},
   "source": [
    "### JPL Space Images - Featured Image"
   ]
  },
  {
   "cell_type": "code",
   "execution_count": null,
   "id": "d23bd24b",
   "metadata": {},
   "outputs": [],
   "source": [
    "#Visit URL\n",
    "feat_img_base = \"https://spaceimages-mars.com/\"\n",
    "browser.visit(feat_img_base)"
   ]
  },
  {
   "cell_type": "code",
   "execution_count": null,
   "id": "e30cccd2",
   "metadata": {},
   "outputs": [],
   "source": [
    "#Find and click the \"Full Image\" button on the site\n",
    "browser.links.find_by_partial_text('FULL').click()"
   ]
  },
  {
   "cell_type": "code",
   "execution_count": null,
   "id": "33399b3c",
   "metadata": {},
   "outputs": [],
   "source": [
    "# Scrape page into Soup\n",
    "feat_img_html = browser.html\n",
    "feat_img_soup = BeautifulSoup(feat_img_html, \"html.parser\")\n"
   ]
  },
  {
   "cell_type": "code",
   "execution_count": null,
   "id": "0ef8cc76",
   "metadata": {},
   "outputs": [],
   "source": [
    "#Find the image location using soup\n",
    "feat_img_loc= feat_img_soup.find(\"img\", class_=\"fancybox-image\")[\"src\"]\n",
    "feat_img_loc"
   ]
  },
  {
   "cell_type": "code",
   "execution_count": null,
   "id": "dbf07efd",
   "metadata": {},
   "outputs": [],
   "source": [
    "#Combine the original base url and the location of the image url to create the absolute URL\n",
    "feat_img_url= feat_img_base+feat_img_loc\n",
    "\n",
    "#Print image link\n",
    "print(feat_img_url)"
   ]
  },
  {
   "cell_type": "markdown",
   "id": "89d9d946",
   "metadata": {},
   "source": [
    "### Mars Facts"
   ]
  },
  {
   "cell_type": "code",
   "execution_count": null,
   "id": "ca269651",
   "metadata": {},
   "outputs": [],
   "source": [
    "#Use  pandas to convert the data to html String visiting the Mars fats webpage \"https://galaxyfacts-mars.com/\"\n",
    "table_url= \"https://galaxyfacts-mars.com/\"\n",
    "data_table= pandas.read_html(table_url)[0]\n",
    "print(data_table)\n"
   ]
  },
  {
   "cell_type": "code",
   "execution_count": null,
   "id": "fded9811",
   "metadata": {},
   "outputs": [],
   "source": [
    "#Output\n",
    "print(\" \")\n",
    "print(\" \")\n",
    "\n",
    "# Headers\n",
    "data_table=data_table.rename(columns={\n",
    "    0:\"Description\",\n",
    "    1:\"Mars\",\n",
    "    2:\"Earth\"\n",
    "})\n",
    "\n",
    "#table to view\n",
    "\n",
    "print(data_table)\n",
    "print(\" \")\n",
    "print(\" \")\n",
    "\n",
    "#Set \"Description\" as index to further match expected output\n",
    "data_table=data_table.set_index(\"Description\")\n",
    "\n",
    "#table to view\n",
    "print(data_table)\n",
    "print(\" \")\n",
    "print(\" \")\n"
   ]
  },
  {
   "cell_type": "code",
   "execution_count": null,
   "id": "406df2fe",
   "metadata": {},
   "outputs": [],
   "source": [
    "#Table to html\n",
    "\n",
    "table_html = data_table.to_html()\n",
    "print(table_html)\n",
    "\n"
   ]
  },
  {
   "cell_type": "markdown",
   "id": "97930a9e",
   "metadata": {},
   "source": [
    "### Mars Hemisphers"
   ]
  },
  {
   "cell_type": "code",
   "execution_count": null,
   "id": "a84fc102",
   "metadata": {},
   "outputs": [],
   "source": [
    "#Visit browser\n",
    "hemi_url = \"https://marshemispheres.com/\"\n",
    "browser.visit(hemi_url)"
   ]
  },
  {
   "cell_type": "code",
   "execution_count": null,
   "id": "63bfd4d5",
   "metadata": {},
   "outputs": [],
   "source": [
    "#Create list to hold the title and image urls\n",
    "hemi_img_urls=[]"
   ]
  },
  {
   "cell_type": "code",
   "execution_count": null,
   "id": "de569c1f",
   "metadata": {},
   "outputs": [],
   "source": [
    "# Get a list of all of the hemispheres\n",
    "links = browser.find_by_css('a.product-item img')"
   ]
  },
  {
   "cell_type": "code",
   "execution_count": null,
   "id": "dc729173",
   "metadata": {},
   "outputs": [],
   "source": [
    "\n",
    "#For loop errors out after 4, so run that many times\n",
    "for i in range(0,4):\n",
    "    #Create a dictionary each loop to append to the list\n",
    "    hemi_dict={}\n",
    "    \n",
    "    #Find the i-th image link for the hemisphere and click\n",
    "    browser.find_by_css('a.product-item img')[i].click()\n",
    "    \n",
    "    \n",
    "    #Scrape in the title from it's h2 element into dictionary\n",
    "    hemi_dict['title']=browser.find_by_css('h2.title').text\n",
    "    \n",
    "    #Scrape image url in by it's element img into dictionary\n",
    "    hemi_dict['img_url']=browser.find_by_css('img.wide-image')['src']\n",
    "    \n",
    "    #Append dictionary into the list\n",
    "    hemi_img_urls.append(hemi_dict)\n",
    "    \n",
    "    #Have splinter move back to home page\n",
    "    browser.back()\n",
    "\n",
    "#Print out the list\n",
    "print(hemi_img_urls)\n"
   ]
  },
  {
   "cell_type": "code",
   "execution_count": null,
   "id": "d2816de7",
   "metadata": {},
   "outputs": [],
   "source": [
    "#close the browser\n",
    "browser.quit()"
   ]
  },
  {
   "cell_type": "code",
   "execution_count": null,
   "id": "082ea81c",
   "metadata": {},
   "outputs": [],
   "source": []
  }
 ],
 "metadata": {
  "kernelspec": {
   "display_name": "Python 3 (ipykernel)",
   "language": "python",
   "name": "python3"
  },
  "language_info": {
   "codemirror_mode": {
    "name": "ipython",
    "version": 3
   },
   "file_extension": ".py",
   "mimetype": "text/x-python",
   "name": "python",
   "nbconvert_exporter": "python",
   "pygments_lexer": "ipython3",
   "version": "3.9.12"
  }
 },
 "nbformat": 4,
 "nbformat_minor": 5
}
